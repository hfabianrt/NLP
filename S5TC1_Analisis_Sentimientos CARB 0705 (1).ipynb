{
 "cells": [
  {
   "cell_type": "markdown",
   "metadata": {
    "id": "rgIqnRPfiOeY"
   },
   "source": [
    "![image info](https://raw.githubusercontent.com/albahnsen/MIAD_ML_and_NLP/main/images/banner_1.png)"
   ]
  },
  {
   "cell_type": "markdown",
   "metadata": {
    "id": "Xv4dRc7PiOea"
   },
   "source": [
    "# Taller: Análisis de sentimientos y técnicas de NLP\n",
    "\n",
    "En este taller podrán poner en práctica sus conocimientos sobre las diferentes técnicas para el procesamiento de lenguaje natural. El taller está constituido por 5 puntos, en los cuales deberan seguir las intrucciones de cada numeral para su desarrollo."
   ]
  },
  {
   "cell_type": "markdown",
   "metadata": {
    "id": "Ig1K3rH_iOeb"
   },
   "source": [
    "## Datos predicción sentimientos de viajeros en Twitter\n",
    "\n",
    "En este taller se usará el conjunto de datos de sentimientos sobre distintas aerolíneas de EE.UU. provenientes de Twitter. Cada observación contiene si el sentimiento de los tweets es positivo, neutral o negativo teniendo en cuenta distintas variables como aerolínea y las razones de los sentimientos negativos (como \"retraso en el vuelo\" o \"servicio grosero\"). El objetivo es predecir el sentimiento asociado a cada tweet. Para más detalles pueden visitar el siguiente enlace: [datos](https://www.kaggle.com/crowdflower/twitter-airline-sentiment)."
   ]
  },
  {
   "cell_type": "code",
   "execution_count": 1,
   "metadata": {
    "id": "Cc_ydrgdiOec"
   },
   "outputs": [],
   "source": [
    "import warnings\n",
    "warnings.filterwarnings('ignore')"
   ]
  },
  {
   "cell_type": "code",
   "execution_count": 2,
   "metadata": {
    "id": "121pPmrgiOef"
   },
   "outputs": [],
   "source": [
    "# Importación de librerías\n",
    "import pandas as pd\n",
    "import numpy as np\n",
    "%matplotlib inline\n",
    "import matplotlib.pyplot as plt\n",
    "\n",
    "\n"
   ]
  },
  {
   "cell_type": "code",
   "execution_count": 3,
   "metadata": {
    "id": "i7SV4U-4iOeg"
   },
   "outputs": [
    {
     "data": {
      "text/html": [
       "<div>\n",
       "<style scoped>\n",
       "    .dataframe tbody tr th:only-of-type {\n",
       "        vertical-align: middle;\n",
       "    }\n",
       "\n",
       "    .dataframe tbody tr th {\n",
       "        vertical-align: top;\n",
       "    }\n",
       "\n",
       "    .dataframe thead th {\n",
       "        text-align: right;\n",
       "    }\n",
       "</style>\n",
       "<table border=\"1\" class=\"dataframe\">\n",
       "  <thead>\n",
       "    <tr style=\"text-align: right;\">\n",
       "      <th></th>\n",
       "      <th>airline_sentiment</th>\n",
       "      <th>airline_sentiment_confidence</th>\n",
       "      <th>negativereason</th>\n",
       "      <th>negativereason_confidence</th>\n",
       "      <th>airline</th>\n",
       "      <th>airline_sentiment_gold</th>\n",
       "      <th>name</th>\n",
       "      <th>negativereason_gold</th>\n",
       "      <th>retweet_count</th>\n",
       "      <th>text</th>\n",
       "      <th>tweet_coord</th>\n",
       "      <th>tweet_created</th>\n",
       "      <th>tweet_location</th>\n",
       "      <th>user_timezone</th>\n",
       "    </tr>\n",
       "    <tr>\n",
       "      <th>tweet_id</th>\n",
       "      <th></th>\n",
       "      <th></th>\n",
       "      <th></th>\n",
       "      <th></th>\n",
       "      <th></th>\n",
       "      <th></th>\n",
       "      <th></th>\n",
       "      <th></th>\n",
       "      <th></th>\n",
       "      <th></th>\n",
       "      <th></th>\n",
       "      <th></th>\n",
       "      <th></th>\n",
       "      <th></th>\n",
       "    </tr>\n",
       "  </thead>\n",
       "  <tbody>\n",
       "    <tr>\n",
       "      <th>570306133677760513</th>\n",
       "      <td>neutral</td>\n",
       "      <td>1.0000</td>\n",
       "      <td>NaN</td>\n",
       "      <td>NaN</td>\n",
       "      <td>Virgin America</td>\n",
       "      <td>NaN</td>\n",
       "      <td>cairdin</td>\n",
       "      <td>NaN</td>\n",
       "      <td>0</td>\n",
       "      <td>@VirginAmerica What @dhepburn said.</td>\n",
       "      <td>NaN</td>\n",
       "      <td>2015-02-24 11:35:52 -0800</td>\n",
       "      <td>NaN</td>\n",
       "      <td>Eastern Time (US &amp; Canada)</td>\n",
       "    </tr>\n",
       "    <tr>\n",
       "      <th>570301130888122368</th>\n",
       "      <td>positive</td>\n",
       "      <td>0.3486</td>\n",
       "      <td>NaN</td>\n",
       "      <td>0.0000</td>\n",
       "      <td>Virgin America</td>\n",
       "      <td>NaN</td>\n",
       "      <td>jnardino</td>\n",
       "      <td>NaN</td>\n",
       "      <td>0</td>\n",
       "      <td>@VirginAmerica plus you've added commercials t...</td>\n",
       "      <td>NaN</td>\n",
       "      <td>2015-02-24 11:15:59 -0800</td>\n",
       "      <td>NaN</td>\n",
       "      <td>Pacific Time (US &amp; Canada)</td>\n",
       "    </tr>\n",
       "    <tr>\n",
       "      <th>570301083672813571</th>\n",
       "      <td>neutral</td>\n",
       "      <td>0.6837</td>\n",
       "      <td>NaN</td>\n",
       "      <td>NaN</td>\n",
       "      <td>Virgin America</td>\n",
       "      <td>NaN</td>\n",
       "      <td>yvonnalynn</td>\n",
       "      <td>NaN</td>\n",
       "      <td>0</td>\n",
       "      <td>@VirginAmerica I didn't today... Must mean I n...</td>\n",
       "      <td>NaN</td>\n",
       "      <td>2015-02-24 11:15:48 -0800</td>\n",
       "      <td>Lets Play</td>\n",
       "      <td>Central Time (US &amp; Canada)</td>\n",
       "    </tr>\n",
       "    <tr>\n",
       "      <th>570301031407624196</th>\n",
       "      <td>negative</td>\n",
       "      <td>1.0000</td>\n",
       "      <td>Bad Flight</td>\n",
       "      <td>0.7033</td>\n",
       "      <td>Virgin America</td>\n",
       "      <td>NaN</td>\n",
       "      <td>jnardino</td>\n",
       "      <td>NaN</td>\n",
       "      <td>0</td>\n",
       "      <td>@VirginAmerica it's really aggressive to blast...</td>\n",
       "      <td>NaN</td>\n",
       "      <td>2015-02-24 11:15:36 -0800</td>\n",
       "      <td>NaN</td>\n",
       "      <td>Pacific Time (US &amp; Canada)</td>\n",
       "    </tr>\n",
       "    <tr>\n",
       "      <th>570300817074462722</th>\n",
       "      <td>negative</td>\n",
       "      <td>1.0000</td>\n",
       "      <td>Can't Tell</td>\n",
       "      <td>1.0000</td>\n",
       "      <td>Virgin America</td>\n",
       "      <td>NaN</td>\n",
       "      <td>jnardino</td>\n",
       "      <td>NaN</td>\n",
       "      <td>0</td>\n",
       "      <td>@VirginAmerica and it's a really big bad thing...</td>\n",
       "      <td>NaN</td>\n",
       "      <td>2015-02-24 11:14:45 -0800</td>\n",
       "      <td>NaN</td>\n",
       "      <td>Pacific Time (US &amp; Canada)</td>\n",
       "    </tr>\n",
       "  </tbody>\n",
       "</table>\n",
       "</div>"
      ],
      "text/plain": [
       "                   airline_sentiment  airline_sentiment_confidence  \\\n",
       "tweet_id                                                             \n",
       "570306133677760513           neutral                        1.0000   \n",
       "570301130888122368          positive                        0.3486   \n",
       "570301083672813571           neutral                        0.6837   \n",
       "570301031407624196          negative                        1.0000   \n",
       "570300817074462722          negative                        1.0000   \n",
       "\n",
       "                   negativereason  negativereason_confidence         airline  \\\n",
       "tweet_id                                                                       \n",
       "570306133677760513            NaN                        NaN  Virgin America   \n",
       "570301130888122368            NaN                     0.0000  Virgin America   \n",
       "570301083672813571            NaN                        NaN  Virgin America   \n",
       "570301031407624196     Bad Flight                     0.7033  Virgin America   \n",
       "570300817074462722     Can't Tell                     1.0000  Virgin America   \n",
       "\n",
       "                   airline_sentiment_gold        name negativereason_gold  \\\n",
       "tweet_id                                                                    \n",
       "570306133677760513                    NaN     cairdin                 NaN   \n",
       "570301130888122368                    NaN    jnardino                 NaN   \n",
       "570301083672813571                    NaN  yvonnalynn                 NaN   \n",
       "570301031407624196                    NaN    jnardino                 NaN   \n",
       "570300817074462722                    NaN    jnardino                 NaN   \n",
       "\n",
       "                    retweet_count  \\\n",
       "tweet_id                            \n",
       "570306133677760513              0   \n",
       "570301130888122368              0   \n",
       "570301083672813571              0   \n",
       "570301031407624196              0   \n",
       "570300817074462722              0   \n",
       "\n",
       "                                                                 text  \\\n",
       "tweet_id                                                                \n",
       "570306133677760513                @VirginAmerica What @dhepburn said.   \n",
       "570301130888122368  @VirginAmerica plus you've added commercials t...   \n",
       "570301083672813571  @VirginAmerica I didn't today... Must mean I n...   \n",
       "570301031407624196  @VirginAmerica it's really aggressive to blast...   \n",
       "570300817074462722  @VirginAmerica and it's a really big bad thing...   \n",
       "\n",
       "                   tweet_coord              tweet_created tweet_location  \\\n",
       "tweet_id                                                                   \n",
       "570306133677760513         NaN  2015-02-24 11:35:52 -0800            NaN   \n",
       "570301130888122368         NaN  2015-02-24 11:15:59 -0800            NaN   \n",
       "570301083672813571         NaN  2015-02-24 11:15:48 -0800      Lets Play   \n",
       "570301031407624196         NaN  2015-02-24 11:15:36 -0800            NaN   \n",
       "570300817074462722         NaN  2015-02-24 11:14:45 -0800            NaN   \n",
       "\n",
       "                                 user_timezone  \n",
       "tweet_id                                        \n",
       "570306133677760513  Eastern Time (US & Canada)  \n",
       "570301130888122368  Pacific Time (US & Canada)  \n",
       "570301083672813571  Central Time (US & Canada)  \n",
       "570301031407624196  Pacific Time (US & Canada)  \n",
       "570300817074462722  Pacific Time (US & Canada)  "
      ]
     },
     "execution_count": 3,
     "metadata": {},
     "output_type": "execute_result"
    }
   ],
   "source": [
    "# Lectura de la información de archivo .zip\n",
    "tweets = pd.read_csv('https://raw.githubusercontent.com/albahnsen/MIAD_ML_and_NLP/main/datasets/Tweets.zip', index_col=0)\n",
    "\n",
    "# Visualización dataset\n",
    "tweets.head()"
   ]
  },
  {
   "cell_type": "code",
   "execution_count": 4,
   "metadata": {
    "id": "5SoSZsUEiOeg"
   },
   "outputs": [
    {
     "data": {
      "text/plain": [
       "(14640, 14)"
      ]
     },
     "execution_count": 4,
     "metadata": {},
     "output_type": "execute_result"
    }
   ],
   "source": [
    "# Impresión tamaño del cojunto de datos\n",
    "tweets.shape"
   ]
  },
  {
   "cell_type": "markdown",
   "metadata": {
    "id": "EdCm-n8riOeh"
   },
   "source": [
    "### Análisis descriptivo"
   ]
  },
  {
   "cell_type": "code",
   "execution_count": 5,
   "metadata": {
    "id": "BK7i0Ie3iOeh"
   },
   "outputs": [
    {
     "data": {
      "text/plain": [
       "negative    9178\n",
       "neutral     3099\n",
       "positive    2363\n",
       "Name: airline_sentiment, dtype: int64"
      ]
     },
     "execution_count": 5,
     "metadata": {},
     "output_type": "execute_result"
    }
   ],
   "source": [
    "# Cuenta de tweets por cada sentimiento\n",
    "tweets['airline_sentiment'].value_counts()"
   ]
  },
  {
   "cell_type": "code",
   "execution_count": 6,
   "metadata": {
    "id": "9dnQB6XkiOei"
   },
   "outputs": [
    {
     "data": {
      "text/plain": [
       "United            3822\n",
       "US Airways        2913\n",
       "American          2759\n",
       "Southwest         2420\n",
       "Delta             2222\n",
       "Virgin America     504\n",
       "Name: airline, dtype: int64"
      ]
     },
     "execution_count": 6,
     "metadata": {},
     "output_type": "execute_result"
    }
   ],
   "source": [
    "# Cuenta de tweets por cada aerolínea\n",
    "tweets['airline'].value_counts()"
   ]
  },
  {
   "cell_type": "code",
   "execution_count": 7,
   "metadata": {
    "id": "vBqJuizdiOej"
   },
   "outputs": [
    {
     "data": {
      "text/plain": [
       "<AxesSubplot:title={'center':'Sentiminetos por aerolínea'}, xlabel='airline'>"
      ]
     },
     "execution_count": 7,
     "metadata": {},
     "output_type": "execute_result"
    },
    {
     "data": {
      "image/png": "[encoded data removed]",
      "text/plain": [
       "<Figure size 720x432 with 1 Axes>"
      ]
     },
     "metadata": {
      "needs_background": "light"
     },
     "output_type": "display_data"
    }
   ],
   "source": [
    "# Plot con cuenta de tweets por cada aerolínea y sentimiento\n",
    "pd.crosstab(index = tweets[\"airline\"],columns = tweets[\"airline_sentiment\"]).plot(kind='bar',figsize=(10, 6),alpha=0.5,rot=0,stacked=True,title=\"Sentiminetos por aerolínea\")"
   ]
  },
  {
   "cell_type": "markdown",
   "metadata": {
    "id": "6rpB0nbCiOej"
   },
   "source": [
    "### Liberias y Variables de interés y predicción"
   ]
  },
  {
   "cell_type": "code",
   "execution_count": 8,
   "metadata": {
    "id": "l6_Z4SsEiOej"
   },
   "outputs": [],
   "source": [
    "from sklearn.model_selection import train_test_split, cross_val_score\n",
    "from sklearn.feature_extraction.text import CountVectorizer, TfidfVectorizer\n",
    "from sklearn.ensemble import RandomForestClassifier\n",
    "from nltk.stem.snowball import SnowballStemmer\n",
    "from nltk.stem import WordNetLemmatizer\n",
    "from sklearn.metrics import accuracy_score"
   ]
  },
  {
   "cell_type": "code",
   "execution_count": 9,
   "metadata": {
    "id": "01PpO_IdiOek"
   },
   "outputs": [],
   "source": [
    "# Separación de variables predictoras (X) y de variable de interés (y)\n",
    "X = tweets['text']\n",
    "y = tweets['airline_sentiment'].map({'negative':-1,'neutral':0,'positive':1})\n",
    "#print(tweets['airline_sentiment'])\n",
    "#print(y)"
   ]
  },
  {
   "cell_type": "code",
   "execution_count": 10,
   "metadata": {
    "id": "Phqafsw1iOek"
   },
   "outputs": [],
   "source": [
    "# Separación de datos en set de entrenamiento y test\n",
    "X_train, X_test, y_train, y_test = train_test_split(X, y, test_size=0.33, random_state=42)"
   ]
  },
  {
   "cell_type": "code",
   "execution_count": 24,
   "metadata": {
    "id": "5O-YDSZK6GCz"
   },
   "outputs": [
    {
     "name": "stdout",
     "output_type": "stream",
     "text": [
      "--------------------------------------------\n",
      "Antes de Balancear:\n",
      "-1    6093\n",
      " 0    2115\n",
      " 1    1600\n",
      "Name: airline_sentiment, dtype: int64\n"
     ]
    },
    {
     "data": {
      "image/png": "[encoded data removed]",
      "text/plain": [
       "<Figure size 432x288 with 1 Axes>"
      ]
     },
     "metadata": {
      "needs_background": "light"
     },
     "output_type": "display_data"
    },
    {
     "data": {
      "image/png": "[encoded data removed]",
      "text/plain": [
       "<Figure size 432x288 with 1 Axes>"
      ]
     },
     "metadata": {
      "needs_background": "light"
     },
     "output_type": "display_data"
    },
    {
     "name": "stdout",
     "output_type": "stream",
     "text": [
      "<class 'numpy.ndarray'>\n",
      "(4800,)\n",
      "<class 'numpy.ndarray'>\n",
      "<class 'pandas.core.series.Series'>\n",
      "(4800,)\n",
      "(9808,)\n"
     ]
    }
   ],
   "source": [
    "from sklearn.utils import resample,shuffle\n",
    "#Balanceo de clases: Downsampling \n",
    "print('--------------------------------------------')\n",
    "print('Antes de Balancear:')\n",
    "print(y_train.value_counts())\n",
    "\n",
    "plt.hist(y_train) \n",
    "plt.title(\"Sin balanceo de clases\") \n",
    "plt.show()\n",
    "\n",
    "#Aplicación de balanceo de las clases, downsampling \n",
    "Xusm1, yusm1 = resample(\n",
    "                X_train[y_train == -1], \n",
    "                y_train[y_train == -1],\n",
    "                n_samples=len(y_train[y_train == 1]),\n",
    "                replace=True, random_state=123)\n",
    "\n",
    "Xus0, yus0 = resample(\n",
    "                X_train[y_train == 0], \n",
    "                y_train[y_train == 0],\n",
    "                n_samples=len(y_train[y_train == 1]),\n",
    "                replace=True, random_state=123)\n",
    "\n",
    "#Union de todos los df\n",
    "X_train_us = np.vstack((X_train[y_train == 1], Xusm1, Xus0))\n",
    "y_train_us = np.hstack((y_train[y_train == 1], yusm1, yus0))\n",
    "\n",
    "plt.hist(y_train_us) \n",
    "plt.title(\"Balanceo de clases\") \n",
    "plt.show()\n",
    "\n",
    "#Adecuación de datos para que pueda recivirlos en countvectorizer\n",
    "X_train_us.shape\n",
    "print(type(X_train_us))\n",
    "X_trainflat = X_train_us.flatten()\n",
    "print(X_trainflat.shape)\n",
    "print(type(X_trainflat))\n",
    "X_trainflat1 = pd.Series(data=X_trainflat)\n",
    "print(type(X_trainflat1))\n",
    "print(X_trainflat1.shape)\n",
    "print(y_train.shape)"
   ]
  },
  {
   "cell_type": "markdown",
   "metadata": {
    "id": "4tM0YYAriOek"
   },
   "source": [
    "### Punto 1 - Uso de CountVectorizer\n",
    "\n",
    "En la celda 1 creen un modelo de random forest con la libreria sklearn que prediga el sentimiento de los tweets usando los set de entrenamiento y test definidos anteriormente. Usen la función **CountVectorizer** y presenten el desempeño del modelo con la métrica del acurracy.\n",
    "\n",
    "Recuerden que el preprocesamiento que se haga sobre los datos de entrenamiento  (*.fit_transform()*) deben ser aplicado al set de test (*.transform()*)."
   ]
  },
  {
   "cell_type": "code",
   "execution_count": 12,
   "metadata": {
    "id": "Ax06f-PLiOel",
    "scrolled": true
   },
   "outputs": [
    {
     "name": "stdout",
     "output_type": "stream",
     "text": [
      "(4800, 2360)\n",
      "['using', 'usually', 'utah', 'va', 'vacation', 'value', 've', 'vegas', 'velourlive', 'very', 'via', 'video', 'view', 'vinylvegas', 'virgin', 'virginamerica', 'visit', 'voice', 'volume', 'volunteer', 'voucher', 'vouchers', 'vs', 'vx', 'wait', 'waited', 'waiting', 'walk', 'walked', 'walking', 'wall', 'wanna', 'want', 'wanted', 'wants', 'warm', 'warmth', 'was', 'washington', 'wasn', 'waste', 'wasted', 'watch', 'watched', 'watching', 'water', 'waterbury', 'wave', 'way', 'ways']\n",
      "(9808,)\n",
      "[ 1 -1 -1 ... -1  0 -1]\n",
      "0.6951572847682119\n"
     ]
    }
   ],
   "source": [
    "# Celda 1\n",
    "vect = CountVectorizer(min_df=3,lowercase=True)\n",
    "X_train_limpio_vectorizd = vect.fit_transform(X_trainflat1)\n",
    "print(X_train_limpio_vectorizd.shape)\n",
    "print(vect.get_feature_names()[-150:-100])\n",
    "print(y_train.shape)\n",
    "\n",
    "RFR=RandomForestClassifier(max_depth=3,random_state=0)\n",
    "RFR.fit(X_train_limpio_vectorizd,y_train_us)\n",
    "\n",
    "X_test_limpio_vectorizd = vect.transform(X_test)\n",
    "predicciones= RFR.predict(X_test_limpio_vectorizd)\n",
    "print(predicciones)\n",
    "Accuracy_non_stwords= accuracy_score(y_test, predicciones)\n",
    "print(Accuracy_non_stwords)\n"
   ]
  },
  {
   "cell_type": "markdown",
   "metadata": {
    "id": "dDWOKTEYiOem"
   },
   "source": [
    "### Punto 2 - Eliminación de Stopwords\n",
    "\n",
    "En la celda 2 creen un modelo de random forest con la libreria sklearn que prediga el sentimiento de los tweets usando los set de entrenamiento y test definidos anteriormente. Usen la función CountVectorizer, **eliminen stopwords** y presenten el desempeño del modelo con la métrica del acurracy.\n",
    "\n",
    "Recuerden que el preprocesamiento que se haga sobre los datos de entrenamiento  (*.fit_transform()*) deben ser aplicado al set de test (*.transform()*)."
   ]
  },
  {
   "cell_type": "code",
   "execution_count": 13,
   "metadata": {
    "id": "pct7axvoiOem"
   },
   "outputs": [
    {
     "name": "stdout",
     "output_type": "stream",
     "text": [
      "(4800, 2137)\n",
      "['unavailable', 'unbelievable', 'understand', 'understood', 'unfortunately', 'unhappy', 'unhelpful', 'united', 'unitedairlines', 'unlike', 'upcoming', 'update', 'updated', 'updates', 'upgrade', 'upgraded', 'upgrades', 'upset', 'ur', 'us1562', 'usa', 'usair', 'usairways', 'use', 'used', 'useless', 'using', 'usually', 'utah', 'va', 'vacation', 'value', 've', 'vegas', 'velourlive', 'video', 'view', 'vinylvegas', 'virgin', 'virginamerica', 'visit', 'voice', 'volume', 'volunteer', 'voucher', 'vouchers', 'vs', 'vx', 'wait', 'waited']\n",
      "(9808,)\n",
      "[ 1 -1 -1 ... -1  0 -1]\n",
      "0.6324503311258278\n"
     ]
    }
   ],
   "source": [
    "# Celda 2\n",
    "\n",
    "vect = CountVectorizer(min_df=3,lowercase=True,stop_words='english')\n",
    "X_train_limpio_vectorizd = vect.fit_transform(X_trainflat1)\n",
    "print(X_train_limpio_vectorizd.shape)\n",
    "print(vect.get_feature_names()[-150:-100])\n",
    "print(y_train.shape)\n",
    "\n",
    "RFR=RandomForestClassifier(max_depth=3,random_state=0)\n",
    "RFR.fit(X_train_limpio_vectorizd,y_train_us)\n",
    "\n",
    "X_test_limpio_vectorizd = vect.transform(X_test)\n",
    "predicciones= RFR.predict(X_test_limpio_vectorizd)\n",
    "print(predicciones)\n",
    "Accuracy_stwords= accuracy_score(y_test, predicciones)\n",
    "print(Accuracy_stwords)\n"
   ]
  },
  {
   "cell_type": "markdown",
   "metadata": {
    "id": "m3chvfs3iOen"
   },
   "source": [
    "### Punto 3 - Lematización con verbos\n",
    "\n",
    "En la celda 3 creen un modelo de random forest con la libreria sklearn que prediga el sentimiento de los tweets usando los set de entrenamiento y test definidos anteriormente. Usen la función CountVectorizer, **lematizen el texto con verbos** y presenten el desempeño del modelo con la métrica del acurracy.\n",
    "\n",
    "Recuerden que el preprocesamiento que se haga sobre los datos de entrenamiento  (*.fit_transform()*) deben ser aplicado al set de test (*.transform()*)."
   ]
  },
  {
   "cell_type": "code",
   "execution_count": 18,
   "metadata": {
    "id": "apNcbvUHiOen"
   },
   "outputs": [
    {
     "name": "stdout",
     "output_type": "stream",
     "text": [
      "['virginamerica', 'what', 'dhepburn', 'say', 'plus', 'you', 've', 'add', 'commercials', 'to', 'the', 'experience', 'tacky', 'didn', 'today', 'must', 'mean', 'need', 'take', 'another', 'trip', 'it', 'really', 'aggressive', 'blast', 'obnoxious', 'entertainment', 'in', 'your', 'guests', 'face', 'amp', 'they', 'have', 'little', 'recourse', 'and', 'big', 'bad', 'thing', 'about', 'seriously', 'would', 'pay', '30', 'flight', 'for', 'seat', 'that', 'this', 'play', 'only', 'fly', 'va', 'yes', 'nearly', 'every', 'time', 'fly', 'vx', 'ear', 'worm', 'win', 'go', 'away', 'miss', 'prime', 'opportunity', 'men', 'without', 'hat', 'parody', 'there', 'https', 'co', 'mwpg7grezp', 'well', 'but', 'now', 'do', 'be', 'amaze', 'arrive', 'an', 'hour', 'early', 're', 'too', 'good', 'me', 'do', 'know', 'suicide', 'be', 'second', 'lead', 'cause', 'of', 'death', 'among']\n"
     ]
    },
    {
     "name": "stderr",
     "output_type": "stream",
     "text": [
      "[nltk_data] Downloading package wordnet to\n",
      "[nltk_data]     C:\\Users\\hfabi\\AppData\\Roaming\\nltk_data...\n",
      "[nltk_data]   Package wordnet is already up-to-date!\n"
     ]
    }
   ],
   "source": [
    "# Celda 3\n",
    "from nltk.stem import WordNetLemmatizer\n",
    "import nltk\n",
    "vect = CountVectorizer()\n",
    "vect.fit(X)\n",
    "words = list(vect.vocabulary_.keys())[:100]\n",
    "wordnet_lemmatizer = WordNetLemmatizer()\n",
    "nltk.download('wordnet')\n",
    "print([wordnet_lemmatizer.lemmatize(word,pos='v') for word in words])\n",
    "def split_into_lemmas(text):\n",
    "    text = text.lower()\n",
    "    words = text.split()\n",
    "    return [wordnet_lemmatizer.lemmatize(word) for word in words]"
   ]
  },
  {
   "cell_type": "code",
   "execution_count": 31,
   "metadata": {},
   "outputs": [
    {
     "name": "stdout",
     "output_type": "stream",
     "text": [
      "['yummy!', 'yup', 'yup!', 'yup.', 'yvonne', 'yvr', 'yvr.', 'yyc', 'yyz', 'y’all', 'z1', 'zabsonre', 'zero', 'zone', '{', '|', '~', '~50k', '£130', '\\u200b', '–', '—', '—&gt;', '“@americanair:', '“@jetblue:', '“@southwestair:', '“@southwestair:southwest', '“@united:', '“@usairways:', '“@virginamerica:', '“ear', '“only”', '…', '……..', '€600', '€67', '↔️', '☕✈👍', '☺️', '☺️👍', '☺👍👍', '♥', '♥️', '⛄️☀️', '✈', '✈️', '✈️🌞', '✈️😃👍', '✔️', '❄️❄️']\n",
      "Accuracy Lemmatizer:\n",
      "0.7166804635761589\n"
     ]
    }
   ],
   "source": [
    "vect_lemas = CountVectorizer(analyzer=split_into_lemmas)\n",
    "X_train_l = vect_lemas.fit(X_trainflat1)\n",
    "X_train_l1 = X_train_l.transform(X_trainflat1)\n",
    "print(vect_lemas.get_feature_names()[-150:-100])\n",
    "\n",
    "RFR1 = RandomForestClassifier()\n",
    "# Train the model on training data\n",
    "RFR1.fit(X_train_l1, y_train_us)\n",
    "X_l1= X_train_l.transform(X_test)\n",
    "predict= RFR1.predict(X_l1)\n",
    "Accuracy_lemma= accuracy_score(y_test, predict)\n",
    "print('Accuracy Lemmatizer:')\n",
    "print(Accuracy_lemma)"
   ]
  },
  {
   "cell_type": "markdown",
   "metadata": {
    "id": "aC3k1pMwiOen"
   },
   "source": [
    "### Punto 4 - Multiples técnicas\n",
    "\n",
    "En la celda 4 creen un modelo de random forest con la libreria sklearn que prediga el sentimiento de los tweets usando los set de entrenamiento y test definidos anteriormente. Usen la función **CountVectorizer, eliminen stopwords, lematizen el texto con verbos** y presenten el desempeño del modelo con la métrica del acurracy.\n",
    "\n",
    "Recuerden que el preprocesamiento que se haga sobre los datos de entrenamiento  (*.fit_transform()*) deben ser aplicado al set de test (*.transform()*)."
   ]
  },
  {
   "cell_type": "code",
   "execution_count": 45,
   "metadata": {
    "id": "nxkIKiU7iOen"
   },
   "outputs": [
    {
     "name": "stderr",
     "output_type": "stream",
     "text": [
      "[nltk_data] Downloading package wordnet to\n",
      "[nltk_data]     C:\\Users\\hfabi\\AppData\\Roaming\\nltk_data...\n",
      "[nltk_data]   Package wordnet is already up-to-date!\n"
     ]
    },
    {
     "name": "stdout",
     "output_type": "stream",
     "text": [
      "['virginamerica', 'dhepburn', 'say', 'plus', 've', 'add', 'commercials', 'experience', 'tacky', 'didn', 'today', 'mean', 'need', 'trip', 'really', 'aggressive', 'blast', 'obnoxious', 'entertainment', 'guests', 'face', 'amp', 'little', 'recourse', 'big', 'bad', 'thing', 'seriously', 'pay', '30', 'flight', 'seat', 'play', 'fly', 'va', 'yes', 'nearly', 'time', 'fly', 'vx', 'ear', 'worm', 'win', 'away', 'miss', 'prime', 'opportunity', 'men', 'hat', 'parody', 'https', 'mwpg7grezp', 'amaze', 'arrive', 'hour', 'early', 'good', 'do', 'know', 'suicide', 'second', 'lead', 'cause', 'death', 'teens', '10', '24', 'lt', 'pretty', 'graphics', 'better', 'minimal', 'iconography', 'great', 'deal', 'think', '2nd', 'australia', 'haven', 'go', '1st', 'virginmedia', 'fabulous', 'seductive', 'sky', 'stress', 'travel', 'http', 'ahlxhhkiyn', 'thank', 'sfo', 'pdx', 'schedule', 'mia', 'excite', 'cross', 'country', 'lax', 'mco', 'hear']\n",
      "[]\n",
      "Accuracy Lemmatizer stop:\n",
      "0.7204056291390728\n"
     ]
    }
   ],
   "source": [
    "vect1 = CountVectorizer(lowercase=True,stop_words='english')\n",
    "vect1.fit(X)\n",
    "words = list(vect1.vocabulary_.keys())[:100]\n",
    "wordnet_lemmatizer = WordNetLemmatizer()\n",
    "nltk.download('wordnet')\n",
    "print([wordnet_lemmatizer.lemmatize(word,pos='v') for word in words])\n",
    "def split_into_lemmas(text):\n",
    "    text = text.lower()\n",
    "    words = text.split()\n",
    "    return [wordnet_lemmatizer.lemmatize(word) for word in words]\n",
    "\n",
    "vect_lemas1 = CountVectorizer(analyzer=split_into_lemmas, lowercase=True, stop_words='english')\n",
    "X_train_l2 = vect_lemas1.fit(X_trainflat1)\n",
    "X_train_l22 = X_train_l2.transform(X_trainflat1)\n",
    "print(vect_lemas.get_feature_names()[-150:-100])\n",
    "\n",
    "RFR1 = RandomForestClassifier()\n",
    "# Train the model on training data\n",
    "RFR1.fit(X_train_l22, y_train_us)\n",
    "X_l2= X_train_l2.transform(X_test)\n",
    "predict1= RFR1.predict(X_l2)\n",
    "Accuracy_lemma1= accuracy_score(y_test, predict1)\n",
    "print('Accuracy Lemmatizer stop:')\n",
    "print(Accuracy_lemma1)"
   ]
  },
  {
   "cell_type": "markdown",
   "metadata": {
    "id": "5iR2BYumiOeo"
   },
   "source": [
    "### Punto 5 - Comparación y análisis de resultados\n",
    "\n",
    "En la celda 5 comparen los resultados obtenidos de los diferentes modelos (random forest) y comenten las ventajas del mejor modelo y las desventajas del modelo con el menor desempeño."
   ]
  },
  {
   "cell_type": "code",
   "execution_count": 46,
   "metadata": {
    "id": "K9YvX_rRiOeo"
   },
   "outputs": [
    {
     "data": {
      "image/png": "[encoded data removed]",
      "text/plain": [
       "<Figure size 432x288 with 1 Axes>"
      ]
     },
     "metadata": {
      "needs_background": "light"
     },
     "output_type": "display_data"
    }
   ],
   "source": [
    "# Celda 5\n",
    "fig = plt.figure()\n",
    "ax = fig.add_axes([0,0,1,1])\n",
    "ax.set_title(\"Comparación de MSE de métodos de vectorización de textos con Random Forest\")\n",
    "ejeX = ['Count Vectorizer','Count Vectorizer stop', 'Lemma','Lemma stop']\n",
    "ejeY = [round(Accuracy_non_stwords,5),round(Accuracy_stwords,5),round(Accuracy_lemma,5),round(Accuracy_lemma1,5)]\n",
    "ax.bar(ejeX,ejeY)\n",
    "def addlabels(x,y,plotP):\n",
    "    for i in range(len(x)):\n",
    "        plotP.text(i,y[i],y[i])\n",
    "addlabels(ejeX,ejeY,plt)\n",
    "for tick in ax.get_xticklabels():\n",
    "    tick.set_rotation(45)\n",
    "plt.show()"
   ]
  },
  {
   "cell_type": "markdown",
   "metadata": {},
   "source": [
    "El mejor desempeño se obtuvo con el lematizador:\n",
    "\n",
    "* La ventaja principal del lematizador radica en que convierte muchas conjugaciones de una palabra a su base común y en términos computacionales, dado que los términos ya están lematizados en un diccionario no se requiere la implementación o uso de recursos al momento de realizar la búsqueda.\n",
    "* Se puede observar que el accuracy mejora para los dos casos en los que se utilizar el lemmatizer, especialmente cuando se combina el stopwords.\n",
    "\n",
    "El peor desempeño se obtuvo con el countvectorizer con stopwords y allí la principale desventaja frente al de mejor desempeño, por un lado es que no simplifica en lemas las palabras. Es curioso que en el caso de countvectorizer sin lemas, la opción quitar stopwords no mejoró la predicción mientras al usas los lemas el stopwords si la mejoró."
   ]
  }
 ],
 "metadata": {
  "colab": {
   "name": "S5TC1_Analisis_Sentimientos.ipynb",
   "provenance": []
  },
  "kernelspec": {
   "display_name": "Python 3 (ipykernel)",
   "language": "python",
   "name": "python3"
  },
  "language_info": {
   "codemirror_mode": {
    "name": "ipython",
    "version": 3
   },
   "file_extension": ".py",
   "mimetype": "text/x-python",
   "name": "python",
   "nbconvert_exporter": "python",
   "pygments_lexer": "ipython3",
   "version": "3.9.7"
  }
 },
 "nbformat": 4,
 "nbformat_minor": 1
}
